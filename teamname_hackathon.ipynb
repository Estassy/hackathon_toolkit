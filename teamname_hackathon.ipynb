{
 "cells": [
  {
   "cell_type": "markdown",
   "id": "d271c0b8",
   "metadata": {},
   "source": [
    "# Hackathon : Reinforcement Learning for Drone Navigation"
   ]
  },
  {
   "cell_type": "markdown",
   "id": "0b59b4fd",
   "metadata": {},
   "source": [
    "- Team name:\n",
    "- Team members names:"
   ]
  },
  {
   "cell_type": "markdown",
   "id": "fb5f6162-b5c3-462f-8c79-1fe99d16f175",
   "metadata": {},
   "source": [
    "## 0. Prerequisites"
   ]
  },
  {
   "cell_type": "code",
   "execution_count": null,
   "id": "68618ae7-0858-4006-be28-cd1451979861",
   "metadata": {
    "scrolled": true
   },
   "outputs": [],
   "source": [
    "%pip install -r requirements.txt"
   ]
  },
  {
   "cell_type": "code",
   "execution_count": 28,
   "id": "0dbd81fc-3ed3-4ecc-92da-ea4a86bb6261",
   "metadata": {},
   "outputs": [
    {
     "name": "stdout",
     "output_type": "stream",
     "text": [
      "The autoreload extension is already loaded. To reload it, use:\n",
      "  %reload_ext autoreload\n"
     ]
    }
   ],
   "source": [
    "%load_ext autoreload\n",
    "%autoreload 2\n",
    "\n",
    "import env\n",
    "import agent\n",
    "import reward\n",
    "import simulate"
   ]
  },
  {
   "cell_type": "markdown",
   "id": "aca2c8db-cf8d-46d0-b8bb-ef4dba40009f",
   "metadata": {},
   "source": [
    "## 1. Training"
   ]
  },
  {
   "cell_type": "code",
   "execution_count": 37,
   "id": "fe91a74e",
   "metadata": {},
   "outputs": [
    {
     "name": "stdout",
     "output_type": "stream",
     "text": [
      "Tentative de chargement du checkpoint: my_full_checkpoint.pth\n",
      "Checkpoint chargé avec succès depuis my_full_checkpoint.pth !\n",
      "Episode 1/400, total_reward=-29.999999999999925\n",
      "Episode 2/400, total_reward=-29.999999999999925\n",
      "Episode 3/400, total_reward=-29.999999999999925\n",
      "\n",
      "Pygame window closed\n",
      "Entraînement interrompu par l'utilisateur.\n",
      "Entraînement terminé. Checkpoint final sauvegardé.\n"
     ]
    }
   ],
   "source": [
    "trained_agent, all_rewards = simulate.train('./eval_configs/config_3.json')"
   ]
  },
  {
   "cell_type": "code",
   "execution_count": 30,
   "id": "aa34aa4c-0eab-4db9-9b6b-3fe1f714190c",
   "metadata": {
    "scrolled": true
   },
   "outputs": [
    {
     "name": "stdout",
     "output_type": "stream",
     "text": [
      "Episode 1/300, total_reward=-9.99999999999998\n",
      "Episode 2/300, total_reward=-9.99999999999998\n",
      "Episode 3/300, total_reward=-9.99999999999998\n",
      "Episode 4/300, total_reward=-9.99999999999998\n",
      "Episode 5/300, total_reward=-9.99999999999998\n",
      "Episode 6/300, total_reward=-9.99999999999998\n",
      "Episode 7/300, total_reward=-9.99999999999998\n",
      "Episode 8/300, total_reward=-9.99999999999998\n",
      "Episode 9/300, total_reward=-9.99999999999998\n",
      "Episode 10/300, total_reward=992.9\n",
      "Episode 11/300, total_reward=-9.99999999999998\n",
      "Episode 12/300, total_reward=-9.99999999999998\n",
      "Episode 13/300, total_reward=992.2\n",
      "Episode 14/300, total_reward=-9.99999999999998\n",
      "Episode 15/300, total_reward=-9.99999999999998\n",
      "Episode 16/300, total_reward=-9.99999999999998\n",
      "Episode 17/300, total_reward=-9.99999999999998\n",
      "Episode 18/300, total_reward=-9.99999999999998\n",
      "Episode 19/300, total_reward=990.9\n",
      "Episode 20/300, total_reward=996.6\n",
      "Episode 21/300, total_reward=-9.99999999999998\n",
      "Episode 22/300, total_reward=-9.99999999999998\n",
      "Episode 23/300, total_reward=-9.99999999999998\n",
      "Episode 24/300, total_reward=-9.99999999999998\n",
      "Episode 25/300, total_reward=998.7\n",
      "Episode 26/300, total_reward=-9.99999999999998\n",
      "Episode 27/300, total_reward=995.0\n",
      "Episode 28/300, total_reward=994.0\n",
      "Episode 29/300, total_reward=996.1\n",
      "Episode 30/300, total_reward=998.7\n",
      "Episode 31/300, total_reward=991.4\n",
      "Episode 32/300, total_reward=-9.99999999999998\n",
      "Episode 33/300, total_reward=998.6\n",
      "Episode 34/300, total_reward=-9.99999999999998\n",
      "Episode 35/300, total_reward=-9.99999999999998\n",
      "Episode 36/300, total_reward=-9.99999999999998\n",
      "Episode 37/300, total_reward=998.7\n",
      "Episode 38/300, total_reward=-9.99999999999998\n",
      "Episode 39/300, total_reward=-9.99999999999998\n",
      "Episode 40/300, total_reward=996.6\n",
      "Episode 41/300, total_reward=-9.99999999999998\n",
      "Episode 42/300, total_reward=-9.99999999999998\n",
      "Episode 43/300, total_reward=-9.99999999999998\n",
      "Episode 44/300, total_reward=997.1\n",
      "Episode 45/300, total_reward=998.7\n",
      "Episode 46/300, total_reward=998.7\n",
      "Episode 47/300, total_reward=998.0\n",
      "Episode 48/300, total_reward=997.2\n",
      "Episode 49/300, total_reward=998.4\n",
      "Episode 50/300, total_reward=998.3\n",
      "Checkpoint sauvegardé (épisode 50).\n",
      "Episode 51/300, total_reward=-9.99999999999998\n",
      "Episode 52/300, total_reward=995.6\n",
      "Episode 53/300, total_reward=997.0\n",
      "Episode 54/300, total_reward=990.1\n",
      "Episode 55/300, total_reward=-9.99999999999998\n",
      "Episode 56/300, total_reward=-9.99999999999998\n",
      "Episode 57/300, total_reward=-9.99999999999998\n",
      "Episode 58/300, total_reward=-9.99999999999998\n",
      "Episode 59/300, total_reward=994.5\n",
      "Episode 60/300, total_reward=-9.99999999999998\n",
      "Episode 61/300, total_reward=-9.99999999999998\n",
      "Episode 62/300, total_reward=-9.99999999999998\n",
      "Episode 63/300, total_reward=-9.99999999999998\n",
      "Episode 64/300, total_reward=-9.99999999999998\n",
      "Episode 65/300, total_reward=-9.99999999999998\n",
      "Episode 66/300, total_reward=-9.99999999999998\n",
      "Episode 67/300, total_reward=-9.99999999999998\n",
      "Episode 68/300, total_reward=-9.99999999999998\n",
      "Episode 69/300, total_reward=-9.99999999999998\n",
      "Episode 70/300, total_reward=-9.99999999999998\n",
      "Episode 71/300, total_reward=-9.99999999999998\n",
      "Episode 72/300, total_reward=-9.99999999999998\n",
      "Episode 73/300, total_reward=998.5\n",
      "Episode 74/300, total_reward=-9.99999999999998\n",
      "Episode 75/300, total_reward=-9.99999999999998\n",
      "Episode 76/300, total_reward=-9.99999999999998\n",
      "Episode 77/300, total_reward=998.5\n",
      "Episode 78/300, total_reward=-9.99999999999998\n",
      "Episode 79/300, total_reward=-9.99999999999998\n",
      "Episode 80/300, total_reward=-9.99999999999998\n",
      "Episode 81/300, total_reward=-9.99999999999998\n",
      "Episode 82/300, total_reward=994.5\n",
      "Episode 83/300, total_reward=998.0\n",
      "Episode 84/300, total_reward=992.8\n",
      "Episode 85/300, total_reward=998.5\n",
      "Episode 86/300, total_reward=998.7\n",
      "Episode 87/300, total_reward=995.8\n",
      "Episode 88/300, total_reward=997.4\n",
      "Episode 89/300, total_reward=997.2\n",
      "Episode 90/300, total_reward=-9.99999999999998\n",
      "Episode 91/300, total_reward=994.4\n",
      "Episode 92/300, total_reward=998.7\n",
      "Episode 93/300, total_reward=996.9\n",
      "Episode 94/300, total_reward=998.6\n",
      "Episode 95/300, total_reward=998.2\n",
      "Episode 96/300, total_reward=990.2\n",
      "Episode 97/300, total_reward=994.9\n",
      "Episode 98/300, total_reward=-9.99999999999998\n",
      "Episode 99/300, total_reward=-9.99999999999998\n",
      "Episode 100/300, total_reward=996.0\n",
      "Checkpoint sauvegardé (épisode 100).\n",
      "Episode 101/300, total_reward=-9.99999999999998\n",
      "Episode 102/300, total_reward=997.3\n",
      "Episode 103/300, total_reward=995.5\n",
      "Episode 104/300, total_reward=-9.99999999999998\n",
      "Episode 105/300, total_reward=-9.99999999999998\n",
      "Episode 106/300, total_reward=998.7\n",
      "Episode 107/300, total_reward=-9.99999999999998\n",
      "Episode 108/300, total_reward=-9.99999999999998\n",
      "Episode 109/300, total_reward=998.7\n",
      "Episode 110/300, total_reward=998.7\n",
      "Episode 111/300, total_reward=998.7\n",
      "Episode 112/300, total_reward=992.5\n",
      "Episode 113/300, total_reward=-9.99999999999998\n",
      "Episode 114/300, total_reward=-9.99999999999998\n",
      "Episode 115/300, total_reward=-9.99999999999998\n",
      "Episode 116/300, total_reward=998.5\n",
      "Episode 117/300, total_reward=998.1\n",
      "Episode 118/300, total_reward=998.6\n",
      "Episode 119/300, total_reward=-9.99999999999998\n",
      "Episode 120/300, total_reward=-9.99999999999998\n",
      "Episode 121/300, total_reward=-9.99999999999998\n",
      "Episode 122/300, total_reward=-9.99999999999998\n",
      "Episode 123/300, total_reward=-9.99999999999998\n",
      "Episode 124/300, total_reward=998.7\n",
      "Episode 125/300, total_reward=-9.99999999999998\n",
      "Episode 126/300, total_reward=-9.99999999999998\n",
      "Episode 127/300, total_reward=-9.99999999999998\n",
      "Episode 128/300, total_reward=-9.99999999999998\n",
      "Episode 129/300, total_reward=996.8\n",
      "Episode 130/300, total_reward=-9.99999999999998\n",
      "Episode 131/300, total_reward=-9.99999999999998\n",
      "Episode 132/300, total_reward=-9.99999999999998\n",
      "Episode 133/300, total_reward=996.1\n",
      "Episode 134/300, total_reward=-9.99999999999998\n",
      "Episode 135/300, total_reward=-9.99999999999998\n",
      "Episode 136/300, total_reward=-9.99999999999998\n",
      "Episode 137/300, total_reward=-9.99999999999998\n",
      "Episode 138/300, total_reward=993.0\n",
      "Episode 139/300, total_reward=993.6\n",
      "Episode 140/300, total_reward=-9.99999999999998\n",
      "Episode 141/300, total_reward=-9.99999999999998\n",
      "Episode 142/300, total_reward=994.8\n",
      "Episode 143/300, total_reward=-9.99999999999998\n",
      "Episode 144/300, total_reward=-9.99999999999998\n",
      "Episode 145/300, total_reward=-9.99999999999998\n",
      "Episode 146/300, total_reward=997.9\n",
      "Episode 147/300, total_reward=991.1\n",
      "Episode 148/300, total_reward=-9.99999999999998\n",
      "Episode 149/300, total_reward=-9.99999999999998\n",
      "Episode 150/300, total_reward=-9.99999999999998\n",
      "Checkpoint sauvegardé (épisode 150).\n",
      "Episode 151/300, total_reward=998.7\n",
      "Episode 152/300, total_reward=-9.99999999999998\n",
      "Episode 153/300, total_reward=997.9\n",
      "Episode 154/300, total_reward=-9.99999999999998\n",
      "Episode 155/300, total_reward=998.3\n",
      "Episode 156/300, total_reward=998.5\n",
      "Episode 157/300, total_reward=998.7\n",
      "Episode 158/300, total_reward=-9.99999999999998\n",
      "Episode 159/300, total_reward=998.5\n",
      "Episode 160/300, total_reward=998.5\n",
      "Episode 161/300, total_reward=998.3\n",
      "Episode 162/300, total_reward=-9.99999999999998\n",
      "Episode 163/300, total_reward=998.5\n",
      "Episode 164/300, total_reward=-9.99999999999998\n",
      "Episode 165/300, total_reward=-9.99999999999998\n",
      "Episode 166/300, total_reward=997.4\n",
      "Episode 167/300, total_reward=998.5\n",
      "Episode 168/300, total_reward=998.7\n",
      "Episode 169/300, total_reward=998.4\n",
      "Episode 170/300, total_reward=998.6\n",
      "Episode 171/300, total_reward=998.5\n",
      "Episode 172/300, total_reward=996.0\n",
      "Episode 173/300, total_reward=998.7\n",
      "Episode 174/300, total_reward=998.4\n",
      "Episode 175/300, total_reward=997.9\n",
      "Episode 176/300, total_reward=998.5\n",
      "Episode 177/300, total_reward=998.7\n",
      "Episode 178/300, total_reward=998.5\n",
      "Episode 179/300, total_reward=998.7\n",
      "Episode 180/300, total_reward=997.7\n",
      "Episode 181/300, total_reward=998.4\n",
      "Episode 182/300, total_reward=998.5\n",
      "Episode 183/300, total_reward=998.5\n",
      "Episode 184/300, total_reward=998.5\n",
      "Episode 185/300, total_reward=998.7\n",
      "Episode 186/300, total_reward=998.7\n",
      "Episode 187/300, total_reward=998.4\n",
      "Episode 188/300, total_reward=998.5\n",
      "Episode 189/300, total_reward=998.5\n",
      "Episode 190/300, total_reward=998.6\n",
      "Episode 191/300, total_reward=998.3\n",
      "Episode 192/300, total_reward=997.5\n",
      "Episode 193/300, total_reward=998.3\n",
      "Episode 194/300, total_reward=997.6\n",
      "Episode 195/300, total_reward=998.7\n",
      "Episode 196/300, total_reward=998.5\n",
      "Episode 197/300, total_reward=998.5\n",
      "Episode 198/300, total_reward=998.5\n",
      "Episode 199/300, total_reward=998.5\n",
      "Episode 200/300, total_reward=998.4\n",
      "Checkpoint sauvegardé (épisode 200).\n",
      "Episode 201/300, total_reward=998.3\n",
      "Episode 202/300, total_reward=998.5\n",
      "Episode 203/300, total_reward=998.4\n",
      "Episode 204/300, total_reward=998.4\n",
      "Episode 205/300, total_reward=998.4\n",
      "Episode 206/300, total_reward=998.7\n",
      "Episode 207/300, total_reward=998.4\n",
      "Episode 208/300, total_reward=998.2\n",
      "Episode 209/300, total_reward=997.3\n",
      "Episode 210/300, total_reward=998.4\n",
      "Episode 211/300, total_reward=998.7\n",
      "Episode 212/300, total_reward=998.4\n",
      "Episode 213/300, total_reward=998.4\n",
      "Episode 214/300, total_reward=998.4\n",
      "Episode 215/300, total_reward=998.3\n",
      "Episode 216/300, total_reward=998.2\n",
      "Episode 217/300, total_reward=998.5\n",
      "Episode 218/300, total_reward=998.6\n",
      "Episode 219/300, total_reward=998.2\n",
      "Episode 220/300, total_reward=998.6\n",
      "Episode 221/300, total_reward=998.4\n",
      "Episode 222/300, total_reward=998.6\n",
      "Episode 223/300, total_reward=998.1\n",
      "Episode 224/300, total_reward=997.1\n",
      "Episode 225/300, total_reward=998.5\n",
      "Episode 226/300, total_reward=998.7\n",
      "Episode 227/300, total_reward=998.6\n",
      "Episode 228/300, total_reward=998.6\n",
      "Episode 229/300, total_reward=998.5\n",
      "Episode 230/300, total_reward=998.7\n",
      "Episode 231/300, total_reward=998.4\n",
      "Episode 232/300, total_reward=998.6\n",
      "Episode 233/300, total_reward=998.5\n",
      "Episode 234/300, total_reward=998.2\n",
      "Episode 235/300, total_reward=998.5\n",
      "Episode 236/300, total_reward=998.7\n",
      "Episode 237/300, total_reward=998.4\n",
      "Episode 238/300, total_reward=998.5\n",
      "Episode 239/300, total_reward=998.7\n",
      "Episode 240/300, total_reward=998.4\n",
      "Episode 241/300, total_reward=998.4\n",
      "Episode 242/300, total_reward=998.2\n",
      "Episode 243/300, total_reward=998.6\n",
      "Episode 244/300, total_reward=998.3\n",
      "Episode 245/300, total_reward=998.0\n",
      "Episode 246/300, total_reward=998.5\n",
      "Episode 247/300, total_reward=998.4\n",
      "Episode 248/300, total_reward=998.2\n",
      "Episode 249/300, total_reward=998.7\n",
      "Episode 250/300, total_reward=998.7\n",
      "Checkpoint sauvegardé (épisode 250).\n",
      "Episode 251/300, total_reward=998.6\n",
      "Episode 252/300, total_reward=998.6\n",
      "Episode 253/300, total_reward=997.8\n",
      "Episode 254/300, total_reward=998.6\n",
      "Episode 255/300, total_reward=998.7\n",
      "Episode 256/300, total_reward=997.5\n",
      "Episode 257/300, total_reward=998.6\n",
      "Episode 258/300, total_reward=998.5\n",
      "Episode 259/300, total_reward=998.7\n",
      "Episode 260/300, total_reward=998.3\n",
      "Episode 261/300, total_reward=998.4\n",
      "Episode 262/300, total_reward=998.7\n",
      "Episode 263/300, total_reward=998.5\n",
      "Episode 264/300, total_reward=-9.99999999999998\n",
      "Episode 265/300, total_reward=998.6\n",
      "Episode 266/300, total_reward=998.3\n",
      "Episode 267/300, total_reward=998.7\n",
      "Episode 268/300, total_reward=998.7\n",
      "Episode 269/300, total_reward=998.6\n",
      "Episode 270/300, total_reward=998.7\n",
      "Episode 271/300, total_reward=998.7\n",
      "Episode 272/300, total_reward=998.5\n",
      "Episode 273/300, total_reward=998.7\n",
      "Episode 274/300, total_reward=998.3\n",
      "Episode 275/300, total_reward=998.4\n",
      "Episode 276/300, total_reward=998.7\n",
      "Episode 277/300, total_reward=998.7\n",
      "Episode 278/300, total_reward=996.4\n",
      "Episode 279/300, total_reward=998.7\n",
      "Episode 280/300, total_reward=998.7\n",
      "Episode 281/300, total_reward=997.8\n",
      "Episode 282/300, total_reward=998.6\n",
      "Episode 283/300, total_reward=998.6\n",
      "Episode 284/300, total_reward=998.5\n",
      "Episode 285/300, total_reward=998.1\n",
      "Episode 286/300, total_reward=997.9\n",
      "Episode 287/300, total_reward=998.6\n",
      "Episode 288/300, total_reward=998.6\n",
      "Episode 289/300, total_reward=998.7\n",
      "Episode 290/300, total_reward=998.4\n",
      "Episode 291/300, total_reward=998.7\n",
      "Episode 292/300, total_reward=998.6\n",
      "Episode 293/300, total_reward=998.6\n",
      "Episode 294/300, total_reward=998.2\n",
      "Episode 295/300, total_reward=998.6\n",
      "Episode 296/300, total_reward=998.3\n",
      "Episode 297/300, total_reward=998.5\n",
      "Episode 298/300, total_reward=998.2\n",
      "Episode 299/300, total_reward=998.7\n",
      "Episode 300/300, total_reward=991.3000000000001\n",
      "Checkpoint sauvegardé (épisode 300).\n",
      "Entraînement terminé. Checkpoint final sauvegardé.\n"
     ]
    }
   ],
   "source": [
    "trained_agent, all_rewards = simulate.train('./config.json',  max_episodes_override=300, checkpoint_path=\"my_full_checkpoint.pth\", save_interval=50)"
   ]
  },
  {
   "cell_type": "code",
   "execution_count": 31,
   "id": "ee8e60bb",
   "metadata": {},
   "outputs": [
    {
     "data": {
      "image/png": "[encoded data removed]",
      "text/plain": [
       "<Figure size 1000x600 with 1 Axes>"
      ]
     },
     "metadata": {},
     "output_type": "display_data"
    }
   ],
   "source": [
    "# Plot the cumulated rewards per episode\n",
    "simulate.plot_cumulated_rewards(all_rewards)"
   ]
  },
  {
   "cell_type": "markdown",
   "id": "c2ac3652-834a-4943-a2f6-96dc395a21ae",
   "metadata": {},
   "source": [
    "## 2. Evaluation"
   ]
  },
  {
   "cell_type": "code",
   "execution_count": 32,
   "id": "16713487-5971-4789-bc72-08bc1fb2dc63",
   "metadata": {},
   "outputs": [],
   "source": [
    "eval_config_paths = [f\"./eval_configs/config_{i}.json\" for i in range(1, 11)]"
   ]
  },
  {
   "cell_type": "code",
   "execution_count": 33,
   "id": "8f7ddc0a-19ce-4e67-996f-a19432201b6f",
   "metadata": {
    "scrolled": true
   },
   "outputs": [
    {
     "name": "stdout",
     "output_type": "stream",
     "text": [
      "\n",
      "--- Evaluating Configuration: ./eval_configs/config_1.json ---\n",
      "\n",
      "--- Evaluating Configuration: ./eval_configs/config_2.json ---\n",
      "\n",
      "--- Evaluating Configuration: ./eval_configs/config_3.json ---\n"
     ]
    },
    {
     "ename": "RuntimeError",
     "evalue": "mat1 and mat2 shapes cannot be multiplied (2x26 and 16x256)",
     "output_type": "error",
     "traceback": [
      "\u001b[1;31m---------------------------------------------------------------------------\u001b[0m",
      "\u001b[1;31mRuntimeError\u001b[0m                              Traceback (most recent call last)",
      "Cell \u001b[1;32mIn[33], line 1\u001b[0m\n\u001b[1;32m----> 1\u001b[0m all_results \u001b[38;5;241m=\u001b[39m \u001b[43msimulate\u001b[49m\u001b[38;5;241;43m.\u001b[39;49m\u001b[43mevaluate\u001b[49m\u001b[43m(\u001b[49m\u001b[43meval_config_paths\u001b[49m\u001b[43m,\u001b[49m\u001b[43m \u001b[49m\u001b[43mtrained_agent\u001b[49m\u001b[43m)\u001b[49m\n",
      "File \u001b[1;32mc:\\Marc\\Halckathon\\hackathon_toolkit\\simulate.py:200\u001b[0m, in \u001b[0;36mevaluate\u001b[1;34m(configs_paths, trained_agent, num_episodes)\u001b[0m\n\u001b[0;32m    198\u001b[0m \u001b[38;5;28;01mwhile\u001b[39;00m \u001b[38;5;129;01mnot\u001b[39;00m terminated:\n\u001b[0;32m    199\u001b[0m     env_map \u001b[38;5;241m=\u001b[39m env\u001b[38;5;241m.\u001b[39mget_env_map()\n\u001b[1;32m--> 200\u001b[0m     actions \u001b[38;5;241m=\u001b[39m \u001b[43mtrained_agent\u001b[49m\u001b[38;5;241;43m.\u001b[39;49m\u001b[43mget_action\u001b[49m\u001b[43m(\u001b[49m\u001b[43mstate\u001b[49m\u001b[43m,\u001b[49m\u001b[43m \u001b[49m\u001b[43menv_map\u001b[49m\u001b[43m,\u001b[49m\u001b[43m \u001b[49m\u001b[43mevaluation\u001b[49m\u001b[38;5;241;43m=\u001b[39;49m\u001b[38;5;28;43;01mTrue\u001b[39;49;00m\u001b[43m)\u001b[49m\n\u001b[0;32m    201\u001b[0m     state, rewards, terminated, truncated, info \u001b[38;5;241m=\u001b[39m env\u001b[38;5;241m.\u001b[39mstep(actions)\n\u001b[0;32m    202\u001b[0m     total_reward \u001b[38;5;241m+\u001b[39m\u001b[38;5;241m=\u001b[39m \u001b[38;5;28msum\u001b[39m(rewards)\n",
      "File \u001b[1;32mc:\\Marc\\Halckathon\\hackathon_toolkit\\agent.py:153\u001b[0m, in \u001b[0;36mMyAgent.get_action\u001b[1;34m(self, state, env_map, evaluation)\u001b[0m\n\u001b[0;32m    150\u001b[0m \u001b[38;5;28;01melse\u001b[39;00m:\n\u001b[0;32m    151\u001b[0m     \u001b[38;5;66;03m# Actions issues du réseau Q\u001b[39;00m\n\u001b[0;32m    152\u001b[0m     \u001b[38;5;28;01mwith\u001b[39;00m torch\u001b[38;5;241m.\u001b[39mno_grad():\n\u001b[1;32m--> 153\u001b[0m         q_values \u001b[38;5;241m=\u001b[39m \u001b[38;5;28;43mself\u001b[39;49m\u001b[38;5;241;43m.\u001b[39;49m\u001b[43mmodel\u001b[49m\u001b[43m(\u001b[49m\u001b[43mstate_tensor\u001b[49m\u001b[43m)\u001b[49m\n\u001b[0;32m    154\u001b[0m         actions \u001b[38;5;241m=\u001b[39m torch\u001b[38;5;241m.\u001b[39margmax(q_values, dim\u001b[38;5;241m=\u001b[39m\u001b[38;5;241m1\u001b[39m)\u001b[38;5;241m.\u001b[39mtolist()\n\u001b[0;32m    156\u001b[0m \u001b[38;5;66;03m# ÉTAPE CLÉ : on va \"corriger\" l'action si le LIDAR indique un obstacle tout proche\u001b[39;00m\n",
      "File \u001b[1;32mc:\\Users\\mebataba\\AppData\\Local\\Programs\\Python\\Python311\\Lib\\site-packages\\torch\\nn\\modules\\module.py:1739\u001b[0m, in \u001b[0;36mModule._wrapped_call_impl\u001b[1;34m(self, *args, **kwargs)\u001b[0m\n\u001b[0;32m   1737\u001b[0m     \u001b[38;5;28;01mreturn\u001b[39;00m \u001b[38;5;28mself\u001b[39m\u001b[38;5;241m.\u001b[39m_compiled_call_impl(\u001b[38;5;241m*\u001b[39margs, \u001b[38;5;241m*\u001b[39m\u001b[38;5;241m*\u001b[39mkwargs)  \u001b[38;5;66;03m# type: ignore[misc]\u001b[39;00m\n\u001b[0;32m   1738\u001b[0m \u001b[38;5;28;01melse\u001b[39;00m:\n\u001b[1;32m-> 1739\u001b[0m     \u001b[38;5;28;01mreturn\u001b[39;00m \u001b[38;5;28;43mself\u001b[39;49m\u001b[38;5;241;43m.\u001b[39;49m\u001b[43m_call_impl\u001b[49m\u001b[43m(\u001b[49m\u001b[38;5;241;43m*\u001b[39;49m\u001b[43margs\u001b[49m\u001b[43m,\u001b[49m\u001b[43m \u001b[49m\u001b[38;5;241;43m*\u001b[39;49m\u001b[38;5;241;43m*\u001b[39;49m\u001b[43mkwargs\u001b[49m\u001b[43m)\u001b[49m\n",
      "File \u001b[1;32mc:\\Users\\mebataba\\AppData\\Local\\Programs\\Python\\Python311\\Lib\\site-packages\\torch\\nn\\modules\\module.py:1750\u001b[0m, in \u001b[0;36mModule._call_impl\u001b[1;34m(self, *args, **kwargs)\u001b[0m\n\u001b[0;32m   1745\u001b[0m \u001b[38;5;66;03m# If we don't have any hooks, we want to skip the rest of the logic in\u001b[39;00m\n\u001b[0;32m   1746\u001b[0m \u001b[38;5;66;03m# this function, and just call forward.\u001b[39;00m\n\u001b[0;32m   1747\u001b[0m \u001b[38;5;28;01mif\u001b[39;00m \u001b[38;5;129;01mnot\u001b[39;00m (\u001b[38;5;28mself\u001b[39m\u001b[38;5;241m.\u001b[39m_backward_hooks \u001b[38;5;129;01mor\u001b[39;00m \u001b[38;5;28mself\u001b[39m\u001b[38;5;241m.\u001b[39m_backward_pre_hooks \u001b[38;5;129;01mor\u001b[39;00m \u001b[38;5;28mself\u001b[39m\u001b[38;5;241m.\u001b[39m_forward_hooks \u001b[38;5;129;01mor\u001b[39;00m \u001b[38;5;28mself\u001b[39m\u001b[38;5;241m.\u001b[39m_forward_pre_hooks\n\u001b[0;32m   1748\u001b[0m         \u001b[38;5;129;01mor\u001b[39;00m _global_backward_pre_hooks \u001b[38;5;129;01mor\u001b[39;00m _global_backward_hooks\n\u001b[0;32m   1749\u001b[0m         \u001b[38;5;129;01mor\u001b[39;00m _global_forward_hooks \u001b[38;5;129;01mor\u001b[39;00m _global_forward_pre_hooks):\n\u001b[1;32m-> 1750\u001b[0m     \u001b[38;5;28;01mreturn\u001b[39;00m \u001b[43mforward_call\u001b[49m\u001b[43m(\u001b[49m\u001b[38;5;241;43m*\u001b[39;49m\u001b[43margs\u001b[49m\u001b[43m,\u001b[49m\u001b[43m \u001b[49m\u001b[38;5;241;43m*\u001b[39;49m\u001b[38;5;241;43m*\u001b[39;49m\u001b[43mkwargs\u001b[49m\u001b[43m)\u001b[49m\n\u001b[0;32m   1752\u001b[0m result \u001b[38;5;241m=\u001b[39m \u001b[38;5;28;01mNone\u001b[39;00m\n\u001b[0;32m   1753\u001b[0m called_always_called_hooks \u001b[38;5;241m=\u001b[39m \u001b[38;5;28mset\u001b[39m()\n",
      "File \u001b[1;32mc:\\Marc\\Halckathon\\hackathon_toolkit\\agent.py:52\u001b[0m, in \u001b[0;36mDuelingDQN.forward\u001b[1;34m(self, x)\u001b[0m\n\u001b[0;32m     51\u001b[0m \u001b[38;5;28;01mdef\u001b[39;00m\u001b[38;5;250m \u001b[39m\u001b[38;5;21mforward\u001b[39m(\u001b[38;5;28mself\u001b[39m, x):\n\u001b[1;32m---> 52\u001b[0m     features \u001b[38;5;241m=\u001b[39m \u001b[38;5;28;43mself\u001b[39;49m\u001b[38;5;241;43m.\u001b[39;49m\u001b[43mfeature\u001b[49m\u001b[43m(\u001b[49m\u001b[43mx\u001b[49m\u001b[43m)\u001b[49m\n\u001b[0;32m     53\u001b[0m     values \u001b[38;5;241m=\u001b[39m \u001b[38;5;28mself\u001b[39m\u001b[38;5;241m.\u001b[39mvalue_stream(features)\n\u001b[0;32m     54\u001b[0m     advantages \u001b[38;5;241m=\u001b[39m \u001b[38;5;28mself\u001b[39m\u001b[38;5;241m.\u001b[39madvantage_stream(features)\n",
      "File \u001b[1;32mc:\\Users\\mebataba\\AppData\\Local\\Programs\\Python\\Python311\\Lib\\site-packages\\torch\\nn\\modules\\module.py:1739\u001b[0m, in \u001b[0;36mModule._wrapped_call_impl\u001b[1;34m(self, *args, **kwargs)\u001b[0m\n\u001b[0;32m   1737\u001b[0m     \u001b[38;5;28;01mreturn\u001b[39;00m \u001b[38;5;28mself\u001b[39m\u001b[38;5;241m.\u001b[39m_compiled_call_impl(\u001b[38;5;241m*\u001b[39margs, \u001b[38;5;241m*\u001b[39m\u001b[38;5;241m*\u001b[39mkwargs)  \u001b[38;5;66;03m# type: ignore[misc]\u001b[39;00m\n\u001b[0;32m   1738\u001b[0m \u001b[38;5;28;01melse\u001b[39;00m:\n\u001b[1;32m-> 1739\u001b[0m     \u001b[38;5;28;01mreturn\u001b[39;00m \u001b[38;5;28;43mself\u001b[39;49m\u001b[38;5;241;43m.\u001b[39;49m\u001b[43m_call_impl\u001b[49m\u001b[43m(\u001b[49m\u001b[38;5;241;43m*\u001b[39;49m\u001b[43margs\u001b[49m\u001b[43m,\u001b[49m\u001b[43m \u001b[49m\u001b[38;5;241;43m*\u001b[39;49m\u001b[38;5;241;43m*\u001b[39;49m\u001b[43mkwargs\u001b[49m\u001b[43m)\u001b[49m\n",
      "File \u001b[1;32mc:\\Users\\mebataba\\AppData\\Local\\Programs\\Python\\Python311\\Lib\\site-packages\\torch\\nn\\modules\\module.py:1750\u001b[0m, in \u001b[0;36mModule._call_impl\u001b[1;34m(self, *args, **kwargs)\u001b[0m\n\u001b[0;32m   1745\u001b[0m \u001b[38;5;66;03m# If we don't have any hooks, we want to skip the rest of the logic in\u001b[39;00m\n\u001b[0;32m   1746\u001b[0m \u001b[38;5;66;03m# this function, and just call forward.\u001b[39;00m\n\u001b[0;32m   1747\u001b[0m \u001b[38;5;28;01mif\u001b[39;00m \u001b[38;5;129;01mnot\u001b[39;00m (\u001b[38;5;28mself\u001b[39m\u001b[38;5;241m.\u001b[39m_backward_hooks \u001b[38;5;129;01mor\u001b[39;00m \u001b[38;5;28mself\u001b[39m\u001b[38;5;241m.\u001b[39m_backward_pre_hooks \u001b[38;5;129;01mor\u001b[39;00m \u001b[38;5;28mself\u001b[39m\u001b[38;5;241m.\u001b[39m_forward_hooks \u001b[38;5;129;01mor\u001b[39;00m \u001b[38;5;28mself\u001b[39m\u001b[38;5;241m.\u001b[39m_forward_pre_hooks\n\u001b[0;32m   1748\u001b[0m         \u001b[38;5;129;01mor\u001b[39;00m _global_backward_pre_hooks \u001b[38;5;129;01mor\u001b[39;00m _global_backward_hooks\n\u001b[0;32m   1749\u001b[0m         \u001b[38;5;129;01mor\u001b[39;00m _global_forward_hooks \u001b[38;5;129;01mor\u001b[39;00m _global_forward_pre_hooks):\n\u001b[1;32m-> 1750\u001b[0m     \u001b[38;5;28;01mreturn\u001b[39;00m \u001b[43mforward_call\u001b[49m\u001b[43m(\u001b[49m\u001b[38;5;241;43m*\u001b[39;49m\u001b[43margs\u001b[49m\u001b[43m,\u001b[49m\u001b[43m \u001b[49m\u001b[38;5;241;43m*\u001b[39;49m\u001b[38;5;241;43m*\u001b[39;49m\u001b[43mkwargs\u001b[49m\u001b[43m)\u001b[49m\n\u001b[0;32m   1752\u001b[0m result \u001b[38;5;241m=\u001b[39m \u001b[38;5;28;01mNone\u001b[39;00m\n\u001b[0;32m   1753\u001b[0m called_always_called_hooks \u001b[38;5;241m=\u001b[39m \u001b[38;5;28mset\u001b[39m()\n",
      "File \u001b[1;32mc:\\Users\\mebataba\\AppData\\Local\\Programs\\Python\\Python311\\Lib\\site-packages\\torch\\nn\\modules\\container.py:250\u001b[0m, in \u001b[0;36mSequential.forward\u001b[1;34m(self, input)\u001b[0m\n\u001b[0;32m    248\u001b[0m \u001b[38;5;28;01mdef\u001b[39;00m\u001b[38;5;250m \u001b[39m\u001b[38;5;21mforward\u001b[39m(\u001b[38;5;28mself\u001b[39m, \u001b[38;5;28minput\u001b[39m):\n\u001b[0;32m    249\u001b[0m     \u001b[38;5;28;01mfor\u001b[39;00m module \u001b[38;5;129;01min\u001b[39;00m \u001b[38;5;28mself\u001b[39m:\n\u001b[1;32m--> 250\u001b[0m         \u001b[38;5;28minput\u001b[39m \u001b[38;5;241m=\u001b[39m \u001b[43mmodule\u001b[49m\u001b[43m(\u001b[49m\u001b[38;5;28;43minput\u001b[39;49m\u001b[43m)\u001b[49m\n\u001b[0;32m    251\u001b[0m     \u001b[38;5;28;01mreturn\u001b[39;00m \u001b[38;5;28minput\u001b[39m\n",
      "File \u001b[1;32mc:\\Users\\mebataba\\AppData\\Local\\Programs\\Python\\Python311\\Lib\\site-packages\\torch\\nn\\modules\\module.py:1739\u001b[0m, in \u001b[0;36mModule._wrapped_call_impl\u001b[1;34m(self, *args, **kwargs)\u001b[0m\n\u001b[0;32m   1737\u001b[0m     \u001b[38;5;28;01mreturn\u001b[39;00m \u001b[38;5;28mself\u001b[39m\u001b[38;5;241m.\u001b[39m_compiled_call_impl(\u001b[38;5;241m*\u001b[39margs, \u001b[38;5;241m*\u001b[39m\u001b[38;5;241m*\u001b[39mkwargs)  \u001b[38;5;66;03m# type: ignore[misc]\u001b[39;00m\n\u001b[0;32m   1738\u001b[0m \u001b[38;5;28;01melse\u001b[39;00m:\n\u001b[1;32m-> 1739\u001b[0m     \u001b[38;5;28;01mreturn\u001b[39;00m \u001b[38;5;28;43mself\u001b[39;49m\u001b[38;5;241;43m.\u001b[39;49m\u001b[43m_call_impl\u001b[49m\u001b[43m(\u001b[49m\u001b[38;5;241;43m*\u001b[39;49m\u001b[43margs\u001b[49m\u001b[43m,\u001b[49m\u001b[43m \u001b[49m\u001b[38;5;241;43m*\u001b[39;49m\u001b[38;5;241;43m*\u001b[39;49m\u001b[43mkwargs\u001b[49m\u001b[43m)\u001b[49m\n",
      "File \u001b[1;32mc:\\Users\\mebataba\\AppData\\Local\\Programs\\Python\\Python311\\Lib\\site-packages\\torch\\nn\\modules\\module.py:1750\u001b[0m, in \u001b[0;36mModule._call_impl\u001b[1;34m(self, *args, **kwargs)\u001b[0m\n\u001b[0;32m   1745\u001b[0m \u001b[38;5;66;03m# If we don't have any hooks, we want to skip the rest of the logic in\u001b[39;00m\n\u001b[0;32m   1746\u001b[0m \u001b[38;5;66;03m# this function, and just call forward.\u001b[39;00m\n\u001b[0;32m   1747\u001b[0m \u001b[38;5;28;01mif\u001b[39;00m \u001b[38;5;129;01mnot\u001b[39;00m (\u001b[38;5;28mself\u001b[39m\u001b[38;5;241m.\u001b[39m_backward_hooks \u001b[38;5;129;01mor\u001b[39;00m \u001b[38;5;28mself\u001b[39m\u001b[38;5;241m.\u001b[39m_backward_pre_hooks \u001b[38;5;129;01mor\u001b[39;00m \u001b[38;5;28mself\u001b[39m\u001b[38;5;241m.\u001b[39m_forward_hooks \u001b[38;5;129;01mor\u001b[39;00m \u001b[38;5;28mself\u001b[39m\u001b[38;5;241m.\u001b[39m_forward_pre_hooks\n\u001b[0;32m   1748\u001b[0m         \u001b[38;5;129;01mor\u001b[39;00m _global_backward_pre_hooks \u001b[38;5;129;01mor\u001b[39;00m _global_backward_hooks\n\u001b[0;32m   1749\u001b[0m         \u001b[38;5;129;01mor\u001b[39;00m _global_forward_hooks \u001b[38;5;129;01mor\u001b[39;00m _global_forward_pre_hooks):\n\u001b[1;32m-> 1750\u001b[0m     \u001b[38;5;28;01mreturn\u001b[39;00m \u001b[43mforward_call\u001b[49m\u001b[43m(\u001b[49m\u001b[38;5;241;43m*\u001b[39;49m\u001b[43margs\u001b[49m\u001b[43m,\u001b[49m\u001b[43m \u001b[49m\u001b[38;5;241;43m*\u001b[39;49m\u001b[38;5;241;43m*\u001b[39;49m\u001b[43mkwargs\u001b[49m\u001b[43m)\u001b[49m\n\u001b[0;32m   1752\u001b[0m result \u001b[38;5;241m=\u001b[39m \u001b[38;5;28;01mNone\u001b[39;00m\n\u001b[0;32m   1753\u001b[0m called_always_called_hooks \u001b[38;5;241m=\u001b[39m \u001b[38;5;28mset\u001b[39m()\n",
      "File \u001b[1;32mc:\\Users\\mebataba\\AppData\\Local\\Programs\\Python\\Python311\\Lib\\site-packages\\torch\\nn\\modules\\linear.py:125\u001b[0m, in \u001b[0;36mLinear.forward\u001b[1;34m(self, input)\u001b[0m\n\u001b[0;32m    124\u001b[0m \u001b[38;5;28;01mdef\u001b[39;00m\u001b[38;5;250m \u001b[39m\u001b[38;5;21mforward\u001b[39m(\u001b[38;5;28mself\u001b[39m, \u001b[38;5;28minput\u001b[39m: Tensor) \u001b[38;5;241m-\u001b[39m\u001b[38;5;241m>\u001b[39m Tensor:\n\u001b[1;32m--> 125\u001b[0m     \u001b[38;5;28;01mreturn\u001b[39;00m \u001b[43mF\u001b[49m\u001b[38;5;241;43m.\u001b[39;49m\u001b[43mlinear\u001b[49m\u001b[43m(\u001b[49m\u001b[38;5;28;43minput\u001b[39;49m\u001b[43m,\u001b[49m\u001b[43m \u001b[49m\u001b[38;5;28;43mself\u001b[39;49m\u001b[38;5;241;43m.\u001b[39;49m\u001b[43mweight\u001b[49m\u001b[43m,\u001b[49m\u001b[43m \u001b[49m\u001b[38;5;28;43mself\u001b[39;49m\u001b[38;5;241;43m.\u001b[39;49m\u001b[43mbias\u001b[49m\u001b[43m)\u001b[49m\n",
      "\u001b[1;31mRuntimeError\u001b[0m: mat1 and mat2 shapes cannot be multiplied (2x26 and 16x256)"
     ]
    }
   ],
   "source": [
    "all_results = simulate.evaluate(eval_config_paths, trained_agent)"
   ]
  },
  {
   "cell_type": "code",
   "execution_count": 34,
   "id": "7e43948f",
   "metadata": {},
   "outputs": [
    {
     "ename": "NameError",
     "evalue": "name 'all_results' is not defined",
     "output_type": "error",
     "traceback": [
      "\u001b[1;31m---------------------------------------------------------------------------\u001b[0m",
      "\u001b[1;31mNameError\u001b[0m                                 Traceback (most recent call last)",
      "Cell \u001b[1;32mIn[34], line 1\u001b[0m\n\u001b[1;32m----> 1\u001b[0m display(\u001b[43mall_results\u001b[49m)\n",
      "\u001b[1;31mNameError\u001b[0m: name 'all_results' is not defined"
     ]
    }
   ],
   "source": [
    "display(all_results)"
   ]
  },
  {
   "cell_type": "code",
   "execution_count": null,
   "id": "e82856a0",
   "metadata": {},
   "outputs": [],
   "source": [
    "# Calculate averages for each configuration\n",
    "averages = all_results.groupby('config_path').mean().reset_index().drop(columns=['episode'])\n",
    "averages = averages.rename(columns={\n",
    "    'steps': 'avg_steps',\n",
    "    'reward': 'avg_reward',\n",
    "    'evacuated': 'avg_evacuated',\n",
    "    'deactivated': 'avg_deactivated'})\n",
    "\n",
    "display(averages)\n",
    "averages.to_csv('averages.csv', index=False)"
   ]
  }
 ],
 "metadata": {
  "kernelspec": {
   "display_name": "Python 3",
   "language": "python",
   "name": "python3"
  },
  "language_info": {
   "codemirror_mode": {
    "name": "ipython",
    "version": 3
   },
   "file_extension": ".py",
   "mimetype": "text/x-python",
   "name": "python",
   "nbconvert_exporter": "python",
   "pygments_lexer": "ipython3",
   "version": "3.11.4"
  }
 },
 "nbformat": 4,
 "nbformat_minor": 5
}

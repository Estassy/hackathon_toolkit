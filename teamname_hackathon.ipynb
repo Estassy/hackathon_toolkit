{
 "cells": [
  {
   "cell_type": "markdown",
   "id": "d271c0b8",
   "metadata": {},
   "source": [
    "# Hackathon : Reinforcement Learning for Drone Navigation"
   ]
  },
  {
   "cell_type": "markdown",
   "id": "0b59b4fd",
   "metadata": {},
   "source": [
    "- Team name:\n",
    "- Team members names:"
   ]
  },
  {
   "cell_type": "markdown",
   "id": "fb5f6162-b5c3-462f-8c79-1fe99d16f175",
   "metadata": {},
   "source": [
    "## 0. Prerequisites"
   ]
  },
  {
   "cell_type": "code",
   "execution_count": 1,
   "id": "68618ae7-0858-4006-be28-cd1451979861",
   "metadata": {
    "scrolled": true
   },
   "outputs": [
    {
     "name": "stdout",
     "output_type": "stream",
     "text": [
      "Requirement already satisfied: numpy in c:\\python312\\lib\\site-packages (from -r requirements.txt (line 1)) (2.0.2)Note: you may need to restart the kernel to use updated packages.\n",
      "\n",
      "Requirement already satisfied: pandas in c:\\python312\\lib\\site-packages (from -r requirements.txt (line 2)) (2.2.3)\n",
      "Requirement already satisfied: matplotlib in c:\\python312\\lib\\site-packages (from -r requirements.txt (line 3)) (3.10.0)\n",
      "Requirement already satisfied: gymnasium in c:\\python312\\lib\\site-packages (from -r requirements.txt (line 4)) (1.0.0)\n",
      "Requirement already satisfied: pygame in c:\\python312\\lib\\site-packages (from -r requirements.txt (line 5)) (2.6.1)\n",
      "Requirement already satisfied: tensorflow>=2.12.0 in c:\\python312\\lib\\site-packages (from -r requirements.txt (line 6)) (2.18.0)\n",
      "Requirement already satisfied: keras>=2.12.0 in c:\\python312\\lib\\site-packages (from -r requirements.txt (line 7)) (3.8.0)\n",
      "Requirement already satisfied: python-dateutil>=2.8.2 in c:\\python312\\lib\\site-packages (from pandas->-r requirements.txt (line 2)) (2.9.0.post0)\n",
      "Requirement already satisfied: pytz>=2020.1 in c:\\python312\\lib\\site-packages (from pandas->-r requirements.txt (line 2)) (2024.2)\n",
      "Requirement already satisfied: tzdata>=2022.7 in c:\\python312\\lib\\site-packages (from pandas->-r requirements.txt (line 2)) (2025.1)\n",
      "Requirement already satisfied: contourpy>=1.0.1 in c:\\python312\\lib\\site-packages (from matplotlib->-r requirements.txt (line 3)) (1.3.1)\n",
      "Requirement already satisfied: cycler>=0.10 in c:\\python312\\lib\\site-packages (from matplotlib->-r requirements.txt (line 3)) (0.12.1)\n",
      "Requirement already satisfied: fonttools>=4.22.0 in c:\\python312\\lib\\site-packages (from matplotlib->-r requirements.txt (line 3)) (4.55.6)\n",
      "Requirement already satisfied: kiwisolver>=1.3.1 in c:\\python312\\lib\\site-packages (from matplotlib->-r requirements.txt (line 3)) (1.4.8)\n",
      "Requirement already satisfied: packaging>=20.0 in c:\\python312\\lib\\site-packages (from matplotlib->-r requirements.txt (line 3)) (24.2)\n",
      "Requirement already satisfied: pillow>=8 in c:\\python312\\lib\\site-packages (from matplotlib->-r requirements.txt (line 3)) (11.1.0)\n",
      "Requirement already satisfied: pyparsing>=2.3.1 in c:\\python312\\lib\\site-packages (from matplotlib->-r requirements.txt (line 3)) (3.2.1)\n",
      "Requirement already satisfied: cloudpickle>=1.2.0 in c:\\python312\\lib\\site-packages (from gymnasium->-r requirements.txt (line 4)) (3.1.1)\n",
      "Requirement already satisfied: typing-extensions>=4.3.0 in c:\\python312\\lib\\site-packages (from gymnasium->-r requirements.txt (line 4)) (4.12.2)\n",
      "Requirement already satisfied: farama-notifications>=0.0.1 in c:\\python312\\lib\\site-packages (from gymnasium->-r requirements.txt (line 4)) (0.0.4)\n",
      "Requirement already satisfied: tensorflow-intel==2.18.0 in c:\\python312\\lib\\site-packages (from tensorflow>=2.12.0->-r requirements.txt (line 6)) (2.18.0)\n",
      "Requirement already satisfied: absl-py>=1.0.0 in c:\\python312\\lib\\site-packages (from tensorflow-intel==2.18.0->tensorflow>=2.12.0->-r requirements.txt (line 6)) (2.1.0)\n",
      "Requirement already satisfied: astunparse>=1.6.0 in c:\\python312\\lib\\site-packages (from tensorflow-intel==2.18.0->tensorflow>=2.12.0->-r requirements.txt (line 6)) (1.6.3)\n",
      "Requirement already satisfied: flatbuffers>=24.3.25 in c:\\python312\\lib\\site-packages (from tensorflow-intel==2.18.0->tensorflow>=2.12.0->-r requirements.txt (line 6)) (25.1.24)\n",
      "Requirement already satisfied: gast!=0.5.0,!=0.5.1,!=0.5.2,>=0.2.1 in c:\\python312\\lib\\site-packages (from tensorflow-intel==2.18.0->tensorflow>=2.12.0->-r requirements.txt (line 6)) (0.6.0)\n",
      "Requirement already satisfied: google-pasta>=0.1.1 in c:\\python312\\lib\\site-packages (from tensorflow-intel==2.18.0->tensorflow>=2.12.0->-r requirements.txt (line 6)) (0.2.0)\n",
      "Requirement already satisfied: libclang>=13.0.0 in c:\\python312\\lib\\site-packages (from tensorflow-intel==2.18.0->tensorflow>=2.12.0->-r requirements.txt (line 6)) (18.1.1)\n",
      "Requirement already satisfied: opt-einsum>=2.3.2 in c:\\python312\\lib\\site-packages (from tensorflow-intel==2.18.0->tensorflow>=2.12.0->-r requirements.txt (line 6)) (3.4.0)\n",
      "Requirement already satisfied: protobuf!=4.21.0,!=4.21.1,!=4.21.2,!=4.21.3,!=4.21.4,!=4.21.5,<6.0.0dev,>=3.20.3 in c:\\python312\\lib\\site-packages (from tensorflow-intel==2.18.0->tensorflow>=2.12.0->-r requirements.txt (line 6)) (5.29.3)\n",
      "Requirement already satisfied: requests<3,>=2.21.0 in c:\\python312\\lib\\site-packages (from tensorflow-intel==2.18.0->tensorflow>=2.12.0->-r requirements.txt (line 6)) (2.32.3)\n",
      "Requirement already satisfied: setuptools in c:\\python312\\lib\\site-packages (from tensorflow-intel==2.18.0->tensorflow>=2.12.0->-r requirements.txt (line 6)) (75.8.0)\n",
      "Requirement already satisfied: six>=1.12.0 in c:\\python312\\lib\\site-packages (from tensorflow-intel==2.18.0->tensorflow>=2.12.0->-r requirements.txt (line 6)) (1.17.0)\n",
      "Requirement already satisfied: termcolor>=1.1.0 in c:\\python312\\lib\\site-packages (from tensorflow-intel==2.18.0->tensorflow>=2.12.0->-r requirements.txt (line 6)) (2.5.0)\n",
      "Requirement already satisfied: wrapt>=1.11.0 in c:\\python312\\lib\\site-packages (from tensorflow-intel==2.18.0->tensorflow>=2.12.0->-r requirements.txt (line 6)) (1.17.2)\n",
      "Requirement already satisfied: grpcio<2.0,>=1.24.3 in c:\\python312\\lib\\site-packages (from tensorflow-intel==2.18.0->tensorflow>=2.12.0->-r requirements.txt (line 6)) (1.70.0)\n",
      "Requirement already satisfied: tensorboard<2.19,>=2.18 in c:\\python312\\lib\\site-packages (from tensorflow-intel==2.18.0->tensorflow>=2.12.0->-r requirements.txt (line 6)) (2.18.0)\n",
      "Requirement already satisfied: h5py>=3.11.0 in c:\\python312\\lib\\site-packages (from tensorflow-intel==2.18.0->tensorflow>=2.12.0->-r requirements.txt (line 6)) (3.12.1)\n",
      "Requirement already satisfied: ml-dtypes<0.5.0,>=0.4.0 in c:\\python312\\lib\\site-packages (from tensorflow-intel==2.18.0->tensorflow>=2.12.0->-r requirements.txt (line 6)) (0.4.1)\n",
      "Requirement already satisfied: rich in c:\\python312\\lib\\site-packages (from keras>=2.12.0->-r requirements.txt (line 7)) (13.9.4)\n",
      "Requirement already satisfied: namex in c:\\python312\\lib\\site-packages (from keras>=2.12.0->-r requirements.txt (line 7)) (0.0.8)\n",
      "Requirement already satisfied: optree in c:\\python312\\lib\\site-packages (from keras>=2.12.0->-r requirements.txt (line 7)) (0.14.0)\n",
      "Requirement already satisfied: markdown-it-py>=2.2.0 in c:\\python312\\lib\\site-packages (from rich->keras>=2.12.0->-r requirements.txt (line 7)) (3.0.0)\n",
      "Requirement already satisfied: pygments<3.0.0,>=2.13.0 in c:\\users\\utilisateur\\appdata\\roaming\\python\\python312\\site-packages (from rich->keras>=2.12.0->-r requirements.txt (line 7)) (2.19.1)\n",
      "Requirement already satisfied: wheel<1.0,>=0.23.0 in c:\\python312\\lib\\site-packages (from astunparse>=1.6.0->tensorflow-intel==2.18.0->tensorflow>=2.12.0->-r requirements.txt (line 6)) (0.45.1)\n",
      "Requirement already satisfied: mdurl~=0.1 in c:\\python312\\lib\\site-packages (from markdown-it-py>=2.2.0->rich->keras>=2.12.0->-r requirements.txt (line 7)) (0.1.2)\n",
      "Requirement already satisfied: charset-normalizer<4,>=2 in c:\\python312\\lib\\site-packages (from requests<3,>=2.21.0->tensorflow-intel==2.18.0->tensorflow>=2.12.0->-r requirements.txt (line 6)) (3.4.1)\n",
      "Requirement already satisfied: idna<4,>=2.5 in c:\\python312\\lib\\site-packages (from requests<3,>=2.21.0->tensorflow-intel==2.18.0->tensorflow>=2.12.0->-r requirements.txt (line 6)) (3.10)\n",
      "Requirement already satisfied: urllib3<3,>=1.21.1 in c:\\python312\\lib\\site-packages (from requests<3,>=2.21.0->tensorflow-intel==2.18.0->tensorflow>=2.12.0->-r requirements.txt (line 6)) (2.3.0)\n",
      "Requirement already satisfied: certifi>=2017.4.17 in c:\\python312\\lib\\site-packages (from requests<3,>=2.21.0->tensorflow-intel==2.18.0->tensorflow>=2.12.0->-r requirements.txt (line 6)) (2024.12.14)\n",
      "Requirement already satisfied: markdown>=2.6.8 in c:\\python312\\lib\\site-packages (from tensorboard<2.19,>=2.18->tensorflow-intel==2.18.0->tensorflow>=2.12.0->-r requirements.txt (line 6)) (3.7)\n",
      "Requirement already satisfied: tensorboard-data-server<0.8.0,>=0.7.0 in c:\\python312\\lib\\site-packages (from tensorboard<2.19,>=2.18->tensorflow-intel==2.18.0->tensorflow>=2.12.0->-r requirements.txt (line 6)) (0.7.2)\n",
      "Requirement already satisfied: werkzeug>=1.0.1 in c:\\python312\\lib\\site-packages (from tensorboard<2.19,>=2.18->tensorflow-intel==2.18.0->tensorflow>=2.12.0->-r requirements.txt (line 6)) (3.1.3)\n",
      "Requirement already satisfied: MarkupSafe>=2.1.1 in c:\\python312\\lib\\site-packages (from werkzeug>=1.0.1->tensorboard<2.19,>=2.18->tensorflow-intel==2.18.0->tensorflow>=2.12.0->-r requirements.txt (line 6)) (3.0.2)\n"
     ]
    },
    {
     "name": "stderr",
     "output_type": "stream",
     "text": [
      "WARNING: Ignoring invalid distribution ~ip (c:\\Python312\\Lib\\site-packages)\n",
      "WARNING: Ignoring invalid distribution ~ip (c:\\Python312\\Lib\\site-packages)\n",
      "WARNING: Ignoring invalid distribution ~ip (c:\\Python312\\Lib\\site-packages)\n"
     ]
    }
   ],
   "source": [
    "%pip install -r requirements.txt"
   ]
  },
  {
   "cell_type": "code",
   "execution_count": 2,
   "id": "0dbd81fc-3ed3-4ecc-92da-ea4a86bb6261",
   "metadata": {},
   "outputs": [],
   "source": [
    "%load_ext autoreload\n",
    "%autoreload 2\n",
    "\n",
    "import env\n",
    "import agent\n",
    "import reward\n",
    "import simulate"
   ]
  },
  {
   "cell_type": "markdown",
   "id": "aca2c8db-cf8d-46d0-b8bb-ef4dba40009f",
   "metadata": {},
   "source": [
    "## 1. Training"
   ]
  },
  {
   "cell_type": "code",
   "execution_count": 3,
   "id": "aa34aa4c-0eab-4db9-9b6b-3fe1f714190c",
   "metadata": {
    "scrolled": true
   },
   "outputs": [
    {
     "name": "stderr",
     "output_type": "stream",
     "text": [
      "c:\\Python312\\Lib\\site-packages\\keras\\src\\layers\\core\\dense.py:87: UserWarning: Do not pass an `input_shape`/`input_dim` argument to a layer. When using Sequential models, prefer using an `Input(shape)` object as the first layer in the model instead.\n",
      "  super().__init__(activity_regularizer=activity_regularizer, **kwargs)\n"
     ]
    },
    {
     "ename": "AttributeError",
     "evalue": "'MyAgent' object has no attribute 'grid_size'",
     "output_type": "error",
     "traceback": [
      "\u001b[1;31m---------------------------------------------------------------------------\u001b[0m",
      "\u001b[1;31mAttributeError\u001b[0m                            Traceback (most recent call last)",
      "Cell \u001b[1;32mIn[3], line 1\u001b[0m\n\u001b[1;32m----> 1\u001b[0m trained_agent, all_rewards \u001b[38;5;241m=\u001b[39m \u001b[43msimulate\u001b[49m\u001b[38;5;241;43m.\u001b[39;49m\u001b[43mtrain\u001b[49m\u001b[43m(\u001b[49m\u001b[38;5;124;43m'\u001b[39;49m\u001b[38;5;124;43mconfig.json\u001b[39;49m\u001b[38;5;124;43m'\u001b[39;49m\u001b[43m)\u001b[49m\n",
      "File \u001b[1;32mc:\\Users\\Utilisateur\\Desktop\\BranchHackathon\\hackathon_toolkit\\simulate.py:106\u001b[0m, in \u001b[0;36mtrain\u001b[1;34m(config_path)\u001b[0m\n\u001b[0;32m    103\u001b[0m total_reward \u001b[38;5;241m+\u001b[39m\u001b[38;5;241m=\u001b[39m np\u001b[38;5;241m.\u001b[39msum(rewards)\n\u001b[0;32m    105\u001b[0m \u001b[38;5;66;03m# Update agent policy\u001b[39;00m\n\u001b[1;32m--> 106\u001b[0m \u001b[43magent\u001b[49m\u001b[38;5;241;43m.\u001b[39;49m\u001b[43mupdate_policy\u001b[49m\u001b[43m(\u001b[49m\u001b[43mactions\u001b[49m\u001b[43m,\u001b[49m\u001b[43m \u001b[49m\u001b[43mstate\u001b[49m\u001b[43m,\u001b[49m\u001b[43m \u001b[49m\u001b[43mrewards\u001b[49m\u001b[43m)\u001b[49m\n\u001b[0;32m    108\u001b[0m \u001b[38;5;66;03m# Display of the step information\u001b[39;00m\n\u001b[0;32m    109\u001b[0m \u001b[38;5;28mprint\u001b[39m(\u001b[38;5;124mf\u001b[39m\u001b[38;5;124m\"\u001b[39m\u001b[38;5;130;01m\\r\u001b[39;00m\u001b[38;5;124mEpisode \u001b[39m\u001b[38;5;132;01m{\u001b[39;00mepisode_count\u001b[38;5;250m \u001b[39m\u001b[38;5;241m+\u001b[39m\u001b[38;5;250m \u001b[39m\u001b[38;5;241m1\u001b[39m\u001b[38;5;132;01m}\u001b[39;00m\u001b[38;5;124m, Step \u001b[39m\u001b[38;5;132;01m{\u001b[39;00minfo[\u001b[38;5;124m'\u001b[39m\u001b[38;5;124mcurrent_step\u001b[39m\u001b[38;5;124m'\u001b[39m]\u001b[38;5;132;01m}\u001b[39;00m\u001b[38;5;124m, \u001b[39m\u001b[38;5;124m\"\u001b[39m\n\u001b[0;32m    110\u001b[0m       \u001b[38;5;124mf\u001b[39m\u001b[38;5;124m\"\u001b[39m\u001b[38;5;124mReward: \u001b[39m\u001b[38;5;132;01m{\u001b[39;00mtotal_reward\u001b[38;5;132;01m:\u001b[39;00m\u001b[38;5;124m.2f\u001b[39m\u001b[38;5;132;01m}\u001b[39;00m\u001b[38;5;124m, \u001b[39m\u001b[38;5;124m\"\u001b[39m\n\u001b[0;32m    111\u001b[0m       \u001b[38;5;124mf\u001b[39m\u001b[38;5;124m\"\u001b[39m\u001b[38;5;124mEvacuated: \u001b[39m\u001b[38;5;132;01m{\u001b[39;00m\u001b[38;5;28mlen\u001b[39m(info[\u001b[38;5;124m'\u001b[39m\u001b[38;5;124mevacuated_agents\u001b[39m\u001b[38;5;124m'\u001b[39m])\u001b[38;5;132;01m}\u001b[39;00m\u001b[38;5;124m, \u001b[39m\u001b[38;5;124m\"\u001b[39m\n\u001b[0;32m    112\u001b[0m       \u001b[38;5;124mf\u001b[39m\u001b[38;5;124m\"\u001b[39m\u001b[38;5;124mDeactivated: \u001b[39m\u001b[38;5;132;01m{\u001b[39;00m\u001b[38;5;28mlen\u001b[39m(info[\u001b[38;5;124m'\u001b[39m\u001b[38;5;124mdeactivated_agents\u001b[39m\u001b[38;5;124m'\u001b[39m])\u001b[38;5;132;01m}\u001b[39;00m\u001b[38;5;124m\"\u001b[39m, end\u001b[38;5;241m=\u001b[39m\u001b[38;5;124m'\u001b[39m\u001b[38;5;124m'\u001b[39m)\n",
      "File \u001b[1;32mc:\\Users\\Utilisateur\\Desktop\\BranchHackathon\\hackathon_toolkit\\agent.py:64\u001b[0m, in \u001b[0;36mMyAgent.update_policy\u001b[1;34m(self, actions, next_state, reward)\u001b[0m\n\u001b[0;32m     61\u001b[0m         \u001b[38;5;28;01mcontinue\u001b[39;00m\n\u001b[0;32m     63\u001b[0m     done \u001b[38;5;241m=\u001b[39m (reward[i] \u001b[38;5;241m==\u001b[39m \u001b[38;5;241m1000\u001b[39m)  \u001b[38;5;66;03m# Si l'agent a atteint le but\u001b[39;00m\n\u001b[1;32m---> 64\u001b[0m     next_agent_state \u001b[38;5;241m=\u001b[39m \u001b[38;5;28;43mself\u001b[39;49m\u001b[38;5;241;43m.\u001b[39;49m\u001b[43mpreprocess_state\u001b[49m\u001b[43m(\u001b[49m\u001b[43mnext_state\u001b[49m\u001b[43m[\u001b[49m\u001b[43mi\u001b[49m\u001b[43m]\u001b[49m\u001b[43m)\u001b[49m\n\u001b[0;32m     66\u001b[0m     \u001b[38;5;28mself\u001b[39m\u001b[38;5;241m.\u001b[39mmemory\u001b[38;5;241m.\u001b[39mappend((\n\u001b[0;32m     67\u001b[0m         \u001b[38;5;28mself\u001b[39m\u001b[38;5;241m.\u001b[39mlast_states[i],\n\u001b[0;32m     68\u001b[0m         \u001b[38;5;28mself\u001b[39m\u001b[38;5;241m.\u001b[39mlast_actions[i],\n\u001b[1;32m   (...)\u001b[0m\n\u001b[0;32m     71\u001b[0m         done\n\u001b[0;32m     72\u001b[0m     ))\n\u001b[0;32m     74\u001b[0m \u001b[38;5;66;03m# Entraînement par lot si suffisamment d'expériences\u001b[39;00m\n",
      "File \u001b[1;32mc:\\Users\\Utilisateur\\Desktop\\BranchHackathon\\hackathon_toolkit\\agent.py:83\u001b[0m, in \u001b[0;36mMyAgent.preprocess_state\u001b[1;34m(self, state)\u001b[0m\n\u001b[0;32m     80\u001b[0m \u001b[38;5;66;03m# Remplacer les -1 par 0 et normalisation\u001b[39;00m\n\u001b[0;32m     81\u001b[0m processed \u001b[38;5;241m=\u001b[39m np\u001b[38;5;241m.\u001b[39mwhere(state \u001b[38;5;241m==\u001b[39m \u001b[38;5;241m-\u001b[39m\u001b[38;5;241m1\u001b[39m, \u001b[38;5;241m0\u001b[39m, state)\n\u001b[0;32m     82\u001b[0m processed \u001b[38;5;241m=\u001b[39m processed \u001b[38;5;241m/\u001b[39m np\u001b[38;5;241m.\u001b[39marray([\n\u001b[1;32m---> 83\u001b[0m     \u001b[38;5;28;43mself\u001b[39;49m\u001b[38;5;241;43m.\u001b[39;49m\u001b[43mgrid_size\u001b[49m,  \u001b[38;5;66;03m# Position X\u001b[39;00m\n\u001b[0;32m     84\u001b[0m     \u001b[38;5;28mself\u001b[39m\u001b[38;5;241m.\u001b[39mgrid_size,  \u001b[38;5;66;03m# Position Y\u001b[39;00m\n\u001b[0;32m     85\u001b[0m     \u001b[38;5;241m4\u001b[39m,               \u001b[38;5;66;03m# Orientation\u001b[39;00m\n\u001b[0;32m     86\u001b[0m     \u001b[38;5;241m2\u001b[39m,               \u001b[38;5;66;03m# Statut\u001b[39;00m\n\u001b[0;32m     87\u001b[0m     \u001b[38;5;28mself\u001b[39m\u001b[38;5;241m.\u001b[39mgrid_size,  \u001b[38;5;66;03m# Objectif X\u001b[39;00m\n\u001b[0;32m     88\u001b[0m     \u001b[38;5;28mself\u001b[39m\u001b[38;5;241m.\u001b[39mgrid_size,  \u001b[38;5;66;03m# Objectif Y\u001b[39;00m\n\u001b[0;32m     89\u001b[0m     \u001b[38;5;28mself\u001b[39m\u001b[38;5;241m.\u001b[39mmax_lidar_dist_main,  \u001b[38;5;66;03m# LIDAR main\u001b[39;00m\n\u001b[0;32m     90\u001b[0m     \u001b[38;5;241m3\u001b[39m,               \u001b[38;5;66;03m# Type obstacle main\u001b[39;00m\n\u001b[0;32m     91\u001b[0m     \u001b[38;5;28mself\u001b[39m\u001b[38;5;241m.\u001b[39mmax_lidar_dist_second, \u001b[38;5;66;03m# LIDAR second\u001b[39;00m\n\u001b[0;32m     92\u001b[0m     \u001b[38;5;241m3\u001b[39m,               \u001b[38;5;66;03m# Type obstacle second\u001b[39;00m\n\u001b[0;32m     93\u001b[0m     \u001b[38;5;28mself\u001b[39m\u001b[38;5;241m.\u001b[39mmax_lidar_dist_second, \u001b[38;5;66;03m# LIDAR second\u001b[39;00m\n\u001b[0;32m     94\u001b[0m     \u001b[38;5;241m3\u001b[39m                \u001b[38;5;66;03m# Type obstacle second\u001b[39;00m\n\u001b[0;32m     95\u001b[0m ] \u001b[38;5;241m+\u001b[39m [\u001b[38;5;241m1\u001b[39m]\u001b[38;5;241m*\u001b[39m\u001b[38;5;241m29\u001b[39m)  \u001b[38;5;66;03m# Normalisation des autres features\u001b[39;00m\n\u001b[0;32m     97\u001b[0m \u001b[38;5;28;01mreturn\u001b[39;00m processed\u001b[38;5;241m.\u001b[39mreshape(\u001b[38;5;241m1\u001b[39m, \u001b[38;5;241m-\u001b[39m\u001b[38;5;241m1\u001b[39m)\n",
      "\u001b[1;31mAttributeError\u001b[0m: 'MyAgent' object has no attribute 'grid_size'"
     ]
    }
   ],
   "source": [
    "trained_agent, all_rewards = simulate.train('config.json')"
   ]
  },
  {
   "cell_type": "code",
   "execution_count": null,
   "id": "ee8e60bb",
   "metadata": {},
   "outputs": [],
   "source": [
    "# Plot the cumulated rewards per episode\n",
    "simulate.plot_cumulated_rewards(all_rewards)"
   ]
  },
  {
   "cell_type": "markdown",
   "id": "c2ac3652-834a-4943-a2f6-96dc395a21ae",
   "metadata": {},
   "source": [
    "## 2. Evaluation"
   ]
  },
  {
   "cell_type": "code",
   "execution_count": 7,
   "id": "16713487-5971-4789-bc72-08bc1fb2dc63",
   "metadata": {},
   "outputs": [],
   "source": [
    "eval_config_paths = [f\"./eval_configs/config_{i}.json\" for i in range(1, 11)]"
   ]
  },
  {
   "cell_type": "code",
   "execution_count": null,
   "id": "8f7ddc0a-19ce-4e67-996f-a19432201b6f",
   "metadata": {
    "scrolled": true
   },
   "outputs": [],
   "source": [
    "all_results = simulate.evaluate(eval_config_paths, trained_agent)"
   ]
  },
  {
   "cell_type": "code",
   "execution_count": null,
   "id": "7e43948f",
   "metadata": {},
   "outputs": [],
   "source": [
    "display(all_results)"
   ]
  },
  {
   "cell_type": "code",
   "execution_count": null,
   "id": "e82856a0",
   "metadata": {},
   "outputs": [],
   "source": [
    "# Calculate averages for each configuration\n",
    "averages = all_results.groupby('config_path').mean().reset_index().drop(columns=['episode'])\n",
    "averages = averages.rename(columns={\n",
    "    'steps': 'avg_steps',\n",
    "    'reward': 'avg_reward',\n",
    "    'evacuated': 'avg_evacuated',\n",
    "    'deactivated': 'avg_deactivated'})\n",
    "\n",
    "display(averages)\n",
    "averages.to_csv('averages.csv', index=False)"
   ]
  }
 ],
 "metadata": {
  "kernelspec": {
   "display_name": "Python 3",
   "language": "python",
   "name": "python3"
  },
  "language_info": {
   "codemirror_mode": {
    "name": "ipython",
    "version": 3
   },
   "file_extension": ".py",
   "mimetype": "text/x-python",
   "name": "python",
   "nbconvert_exporter": "python",
   "pygments_lexer": "ipython3",
   "version": "3.12.1"
  }
 },
 "nbformat": 4,
 "nbformat_minor": 5
}

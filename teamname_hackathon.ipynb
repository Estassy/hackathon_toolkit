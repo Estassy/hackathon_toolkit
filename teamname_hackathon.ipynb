{
 "cells": [
  {
   "cell_type": "markdown",
   "id": "d271c0b8",
   "metadata": {},
   "source": [
    "# Hackathon : Reinforcement Learning for Drone Navigation"
   ]
  },
  {
   "cell_type": "markdown",
   "id": "0b59b4fd",
   "metadata": {},
   "source": [
    "- Team name: Olympus Coders\n",
    "- Team members names: Loan SAMAI, Farès BENAGGOUNE, Marc Estassy BATABA"
   ]
  },
  {
   "cell_type": "markdown",
   "id": "fb5f6162-b5c3-462f-8c79-1fe99d16f175",
   "metadata": {},
   "source": [
    "## 0. Prerequisites"
   ]
  },
  {
   "cell_type": "code",
   "execution_count": 1,
   "id": "68618ae7-0858-4006-be28-cd1451979861",
   "metadata": {
    "scrolled": true
   },
   "outputs": [
    {
     "name": "stdout",
     "output_type": "stream",
     "text": [
      "Requirement already satisfied: numpy in c:\\users\\mebataba\\appdata\\local\\programs\\python\\python311\\lib\\site-packages (from -r requirements.txt (line 1)) (2.2.2)\n",
      "Requirement already satisfied: pandas in c:\\users\\mebataba\\appdata\\local\\programs\\python\\python311\\lib\\site-packages (from -r requirements.txt (line 2)) (2.2.3)\n",
      "Requirement already satisfied: matplotlib in c:\\users\\mebataba\\appdata\\local\\programs\\python\\python311\\lib\\site-packages (from -r requirements.txt (line 3)) (3.10.0)\n",
      "Requirement already satisfied: gymnasium in c:\\users\\mebataba\\appdata\\local\\programs\\python\\python311\\lib\\site-packages (from -r requirements.txt (line 4)) (1.0.0)\n",
      "Requirement already satisfied: pygame in c:\\users\\mebataba\\appdata\\local\\programs\\python\\python311\\lib\\site-packages (from -r requirements.txt (line 5)) (2.6.1)\n",
      "Requirement already satisfied: torch in c:\\users\\mebataba\\appdata\\local\\programs\\python\\python311\\lib\\site-packages (from -r requirements.txt (line 6)) (2.6.0)\n",
      "Requirement already satisfied: python-dateutil>=2.8.2 in c:\\users\\mebataba\\appdata\\roaming\\python\\python311\\site-packages (from pandas->-r requirements.txt (line 2)) (2.9.0.post0)\n",
      "Requirement already satisfied: pytz>=2020.1 in c:\\users\\mebataba\\appdata\\local\\programs\\python\\python311\\lib\\site-packages (from pandas->-r requirements.txt (line 2)) (2024.2)\n",
      "Requirement already satisfied: tzdata>=2022.7 in c:\\users\\mebataba\\appdata\\local\\programs\\python\\python311\\lib\\site-packages (from pandas->-r requirements.txt (line 2)) (2025.1)\n",
      "Requirement already satisfied: contourpy>=1.0.1 in c:\\users\\mebataba\\appdata\\local\\programs\\python\\python311\\lib\\site-packages (from matplotlib->-r requirements.txt (line 3)) (1.3.1)\n",
      "Requirement already satisfied: cycler>=0.10 in c:\\users\\mebataba\\appdata\\local\\programs\\python\\python311\\lib\\site-packages (from matplotlib->-r requirements.txt (line 3)) (0.12.1)\n",
      "Requirement already satisfied: fonttools>=4.22.0 in c:\\users\\mebataba\\appdata\\local\\programs\\python\\python311\\lib\\site-packages (from matplotlib->-r requirements.txt (line 3)) (4.55.6)\n",
      "Requirement already satisfied: kiwisolver>=1.3.1 in c:\\users\\mebataba\\appdata\\local\\programs\\python\\python311\\lib\\site-packages (from matplotlib->-r requirements.txt (line 3)) (1.4.8)\n",
      "Requirement already satisfied: packaging>=20.0 in c:\\users\\mebataba\\appdata\\roaming\\python\\python311\\site-packages (from matplotlib->-r requirements.txt (line 3)) (24.2)\n",
      "Requirement already satisfied: pillow>=8 in c:\\users\\mebataba\\appdata\\local\\programs\\python\\python311\\lib\\site-packages (from matplotlib->-r requirements.txt (line 3)) (11.1.0)\n",
      "Requirement already satisfied: pyparsing>=2.3.1 in c:\\users\\mebataba\\appdata\\local\\programs\\python\\python311\\lib\\site-packages (from matplotlib->-r requirements.txt (line 3)) (3.2.1)\n",
      "Requirement already satisfied: cloudpickle>=1.2.0 in c:\\users\\mebataba\\appdata\\local\\programs\\python\\python311\\lib\\site-packages (from gymnasium->-r requirements.txt (line 4)) (3.1.1)\n",
      "Requirement already satisfied: typing-extensions>=4.3.0 in c:\\users\\mebataba\\appdata\\roaming\\python\\python311\\site-packages (from gymnasium->-r requirements.txt (line 4)) (4.12.2)\n",
      "Requirement already satisfied: farama-notifications>=0.0.1 in c:\\users\\mebataba\\appdata\\local\\programs\\python\\python311\\lib\\site-packages (from gymnasium->-r requirements.txt (line 4)) (0.0.4)\n",
      "Requirement already satisfied: filelock in c:\\users\\mebataba\\appdata\\local\\programs\\python\\python311\\lib\\site-packages (from torch->-r requirements.txt (line 6)) (3.17.0)\n",
      "Requirement already satisfied: networkx in c:\\users\\mebataba\\appdata\\local\\programs\\python\\python311\\lib\\site-packages (from torch->-r requirements.txt (line 6)) (3.4.2)\n",
      "Requirement already satisfied: jinja2 in c:\\users\\mebataba\\appdata\\local\\programs\\python\\python311\\lib\\site-packages (from torch->-r requirements.txt (line 6)) (3.1.5)\n",
      "Requirement already satisfied: fsspec in c:\\users\\mebataba\\appdata\\local\\programs\\python\\python311\\lib\\site-packages (from torch->-r requirements.txt (line 6)) (2024.12.0)\n",
      "Requirement already satisfied: sympy==1.13.1 in c:\\users\\mebataba\\appdata\\local\\programs\\python\\python311\\lib\\site-packages (from torch->-r requirements.txt (line 6)) (1.13.1)\n",
      "Requirement already satisfied: mpmath<1.4,>=1.1.0 in c:\\users\\mebataba\\appdata\\local\\programs\\python\\python311\\lib\\site-packages (from sympy==1.13.1->torch->-r requirements.txt (line 6)) (1.3.0)\n",
      "Requirement already satisfied: six>=1.5 in c:\\users\\mebataba\\appdata\\roaming\\python\\python311\\site-packages (from python-dateutil>=2.8.2->pandas->-r requirements.txt (line 2)) (1.17.0)\n",
      "Requirement already satisfied: MarkupSafe>=2.0 in c:\\users\\mebataba\\appdata\\local\\programs\\python\\python311\\lib\\site-packages (from jinja2->torch->-r requirements.txt (line 6)) (3.0.2)\n",
      "Note: you may need to restart the kernel to use updated packages.\n"
     ]
    },
    {
     "name": "stderr",
     "output_type": "stream",
     "text": [
      "\n",
      "[notice] A new release of pip is available: 23.1.2 -> 25.0\n",
      "[notice] To update, run: python.exe -m pip install --upgrade pip\n"
     ]
    }
   ],
   "source": [
    "%pip install -r requirements.txt"
   ]
  },
  {
   "cell_type": "code",
   "execution_count": 2,
   "id": "0dbd81fc-3ed3-4ecc-92da-ea4a86bb6261",
   "metadata": {},
   "outputs": [],
   "source": [
    "%load_ext autoreload\n",
    "%autoreload 2\n",
    "\n",
    "import env\n",
    "import agent\n",
    "import reward\n",
    "import simulate"
   ]
  },
  {
   "cell_type": "markdown",
   "id": "aca2c8db-cf8d-46d0-b8bb-ef4dba40009f",
   "metadata": {},
   "source": [
    "## 1. Training"
   ]
  },
  {
   "cell_type": "code",
   "execution_count": null,
   "id": "a2817edc",
   "metadata": {},
   "outputs": [],
   "source": [
    "# On peut passer un seul fichier de configuration ou une liste de plusieurs configs\n",
    "# Exemple avec une seule config : trained_agent, all_rewards = simulate.multi_config_train([\"train_configs/config_1.json\"])\n",
    "# Exemple avec plusieurs configs : trained_agent, all_rewards = simulate.multi_config_train([\"train_configs/config_1.json\", \"train_configs/config_3.json\", \"train_configs/config_7.json\"])\n",
    "\n",
    "trained_agent, all_rewards = simulate.multi_config_train([\n",
    "    \"train_configs/config_medium.json\",\n",
    "    \"train_configs/config_hard.json\",\n",
    "    \"train_configs/config_hybride.json\",\n",
    "], checkpoint_path=\"multi_config_checkpoint.pth\", save_interval=100)"
   ]
  },
  {
   "cell_type": "code",
   "execution_count": null,
   "id": "ee8e60bb",
   "metadata": {},
   "outputs": [],
   "source": [
    "# Plot the cumulated rewards per episode\n",
    "simulate.plot_cumulated_rewards(all_rewards)"
   ]
  },
  {
   "cell_type": "markdown",
   "id": "c2ac3652-834a-4943-a2f6-96dc395a21ae",
   "metadata": {},
   "source": [
    "## 2. Evaluation"
   ]
  },
  {
   "cell_type": "code",
   "execution_count": 18,
   "id": "16713487-5971-4789-bc72-08bc1fb2dc63",
   "metadata": {},
   "outputs": [],
   "source": [
    "eval_config_paths = [f\"./eval_configs/config_{i}.json\" for i in range(1, 11)]"
   ]
  },
  {
   "cell_type": "code",
   "execution_count": 19,
   "id": "8f7ddc0a-19ce-4e67-996f-a19432201b6f",
   "metadata": {
    "scrolled": true
   },
   "outputs": [
    {
     "name": "stdout",
     "output_type": "stream",
     "text": [
      "\n",
      "--- Evaluating Configuration: ./eval_configs/config_1.json ---\n",
      "\n",
      "--- Evaluating Configuration: ./eval_configs/config_2.json ---\n",
      "\n",
      "--- Evaluating Configuration: ./eval_configs/config_3.json ---\n",
      "\n",
      "--- Evaluating Configuration: ./eval_configs/config_4.json ---\n",
      "\n",
      "--- Evaluating Configuration: ./eval_configs/config_5.json ---\n",
      "\n",
      "--- Evaluating Configuration: ./eval_configs/config_6.json ---\n",
      "\n",
      "--- Evaluating Configuration: ./eval_configs/config_7.json ---\n",
      "\n",
      "--- Evaluating Configuration: ./eval_configs/config_8.json ---\n",
      "\n",
      "--- Evaluating Configuration: ./eval_configs/config_9.json ---\n",
      "\n",
      "--- Evaluating Configuration: ./eval_configs/config_10.json ---\n"
     ]
    }
   ],
   "source": [
    "all_results = simulate.evaluate(eval_config_paths, trained_agent)"
   ]
  },
  {
   "cell_type": "code",
   "execution_count": null,
   "id": "7e43948f",
   "metadata": {},
   "outputs": [],
   "source": [
    "display(all_results)"
   ]
  },
  {
   "cell_type": "code",
   "execution_count": null,
   "id": "e82856a0",
   "metadata": {},
   "outputs": [],
   "source": [
    "# Calculate averages for each configuration\n",
    "averages = all_results.groupby('config_path').mean().reset_index().drop(columns=['episode'])\n",
    "averages = averages.rename(columns={\n",
    "    'steps': 'avg_steps',\n",
    "    'reward': 'avg_reward',\n",
    "    'evacuated': 'avg_evacuated',\n",
    "    'deactivated': 'avg_deactivated'})\n",
    "\n",
    "display(averages)\n",
    "averages.to_csv('averages.csv', index=False)"
   ]
  }
 ],
 "metadata": {
  "kernelspec": {
   "display_name": "Python 3",
   "language": "python",
   "name": "python3"
  },
  "language_info": {
   "codemirror_mode": {
    "name": "ipython",
    "version": 3
   },
   "file_extension": ".py",
   "mimetype": "text/x-python",
   "name": "python",
   "nbconvert_exporter": "python",
   "pygments_lexer": "ipython3",
   "version": "3.11.4"
  }
 },
 "nbformat": 4,
 "nbformat_minor": 5
}
